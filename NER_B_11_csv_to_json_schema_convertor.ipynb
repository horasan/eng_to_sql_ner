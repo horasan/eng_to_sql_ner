{
  "cells": [
    {
      "cell_type": "markdown",
      "metadata": {
        "id": "view-in-github",
        "colab_type": "text"
      },
      "source": [
        "<a href=\"https://colab.research.google.com/github/horasan/eng_to_sql_ner/blob/main/NER_B_11_csv_to_json_schema_convertor.ipynb\" target=\"_parent\"><img src=\"https://colab.research.google.com/assets/colab-badge.svg\" alt=\"Open In Colab\"/></a>"
      ]
    },
    {
      "cell_type": "code",
      "execution_count": 1,
      "id": "2f3cca7e",
      "metadata": {
        "colab": {
          "base_uri": "https://localhost:8080/"
        },
        "id": "2f3cca7e",
        "outputId": "bdf0e2f2-81d5-4aed-ef1c-f2a1c54688a2"
      },
      "outputs": [
        {
          "output_type": "stream",
          "name": "stdout",
          "text": [
            "Mounted at /content/drive\n"
          ]
        }
      ],
      "source": [
        "from google.colab import drive\n",
        "# read data from google drive\n",
        "drive.mount('/content/drive')\n",
        "FOLDER_PATH = \"NER_for_SQL\"\n",
        "FULL_PATH = \"/content/drive/My Drive/Colab Notebooks/\" + FOLDER_PATH + \"/\""
      ]
    },
    {
      "cell_type": "code",
      "source": [
        "schema_input_csv = \"NER-B-1_schema_info_trs.csv\"\n",
        "schema_relationship_json_output = \"NER-B-1_schema_info_trs.json\""
      ],
      "metadata": {
        "id": "YZy73desrUrl"
      },
      "id": "YZy73desrUrl",
      "execution_count": 3,
      "outputs": []
    },
    {
      "cell_type": "code",
      "execution_count": 2,
      "id": "b2061f71",
      "metadata": {
        "id": "b2061f71"
      },
      "outputs": [],
      "source": [
        "import csv\n",
        "import json\n",
        "from collections import defaultdict\n",
        "\n",
        "def csv_to_schema_json(csv_path, json_output_path):\n",
        "    schema = {\n",
        "        \"tables\": [],\n",
        "        \"relationships\": []\n",
        "    }\n",
        "\n",
        "    table_dict = defaultdict(list)\n",
        "    seen_relationships = set()\n",
        "\n",
        "    with open(csv_path, newline='', encoding='utf-8-sig') as csvfile:\n",
        "        reader = csv.DictReader(csvfile)\n",
        "        # Normalize headers\n",
        "        fieldnames = [name.strip().upper() for name in reader.fieldnames]\n",
        "        reader.fieldnames = fieldnames\n",
        "\n",
        "        for row in reader:\n",
        "            row = {k.strip().upper(): (v.strip() if v else \"\") for k, v in row.items()}\n",
        "\n",
        "            table = row.get('TABLE_NAME')\n",
        "            column = row.get('COLUMN')\n",
        "            entity = row.get('BUSINESS_ENTITY')\n",
        "            related_table = row.get('RELATED_TABLE')\n",
        "            related_column = row.get('RELATED_COLUMN')\n",
        "\n",
        "            if table and column:\n",
        "                col_entry = {\"name\": column}\n",
        "                if entity:\n",
        "                    col_entry[\"business_entity\"] = entity\n",
        "                table_dict[table].append(col_entry)\n",
        "\n",
        "            if table and column and related_table and related_column:\n",
        "                rel_key = (table, column, related_table, related_column)\n",
        "                if rel_key not in seen_relationships:\n",
        "                    schema[\"relationships\"].append({\n",
        "                        \"from_table\": table,\n",
        "                        \"from_column\": column,\n",
        "                        \"to_table\": related_table,\n",
        "                        \"to_column\": related_column\n",
        "                    })\n",
        "                    seen_relationships.add(rel_key)\n",
        "\n",
        "    for table_name, columns in table_dict.items():\n",
        "        schema[\"tables\"].append({\n",
        "            \"table_name\": table_name,\n",
        "            \"columns\": columns\n",
        "        })\n",
        "\n",
        "    with open(json_output_path, 'w', encoding='utf-8') as f:\n",
        "        json.dump(schema, f, indent=2, ensure_ascii=False)\n",
        "\n",
        "    print(f\"✅ Schema JSON saved to: {json_output_path}\")\n"
      ]
    },
    {
      "cell_type": "code",
      "execution_count": 4,
      "id": "44e22a83",
      "metadata": {
        "colab": {
          "base_uri": "https://localhost:8080/"
        },
        "id": "44e22a83",
        "outputId": "0ce8313b-9b3f-4897-e21e-1eebbc9ad470"
      },
      "outputs": [
        {
          "output_type": "stream",
          "name": "stdout",
          "text": [
            "✅ Schema JSON saved to: /content/drive/My Drive/Colab Notebooks/NER_for_SQL/NER-B-1_schema_info_trs.json\n"
          ]
        }
      ],
      "source": [
        "schema_input_csv = \"NER-B-1_schema_info_trs.csv\"\n",
        "schema_relationship_json_output = \"NER-B-1_schema_info_trs.json\"\n",
        "csv_to_schema_json(FULL_PATH + schema_input_csv, FULL_PATH + schema_relationship_json_output)\n"
      ]
    }
  ],
  "metadata": {
    "kernelspec": {
      "display_name": "hf_env",
      "language": "python",
      "name": "python3"
    },
    "language_info": {
      "codemirror_mode": {
        "name": "ipython",
        "version": 3
      },
      "file_extension": ".py",
      "mimetype": "text/x-python",
      "name": "python",
      "nbconvert_exporter": "python",
      "pygments_lexer": "ipython3",
      "version": "3.12.2"
    },
    "colab": {
      "provenance": [],
      "include_colab_link": true
    }
  },
  "nbformat": 4,
  "nbformat_minor": 5
}