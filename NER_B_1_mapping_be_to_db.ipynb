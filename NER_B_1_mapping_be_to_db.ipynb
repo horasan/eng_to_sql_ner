{
  "cells": [
    {
      "cell_type": "markdown",
      "metadata": {
        "id": "view-in-github",
        "colab_type": "text"
      },
      "source": [
        "<a href=\"https://colab.research.google.com/github/horasan/eng_to_sql_ner/blob/main/NER_B_1_mapping_be_to_db.ipynb\" target=\"_parent\"><img src=\"https://colab.research.google.com/assets/colab-badge.svg\" alt=\"Open In Colab\"/></a>"
      ]
    },
    {
      "cell_type": "code",
      "execution_count": 1,
      "id": "2f3cca7e",
      "metadata": {
        "colab": {
          "base_uri": "https://localhost:8080/"
        },
        "id": "2f3cca7e",
        "outputId": "8b66fcd2-bfc4-44ed-9a5f-5076f66caec8"
      },
      "outputs": [
        {
          "output_type": "stream",
          "name": "stdout",
          "text": [
            "Drive already mounted at /content/drive; to attempt to forcibly remount, call drive.mount(\"/content/drive\", force_remount=True).\n"
          ]
        }
      ],
      "source": [
        "from google.colab import drive\n",
        "# read data from google drive\n",
        "drive.mount('/content/drive')\n",
        "FOLDER_PATH = \"NER_for_SQL\"\n",
        "FULL_PATH = \"/content/drive/My Drive/Colab Notebooks/\" + FOLDER_PATH + \"/\""
      ]
    },
    {
      "cell_type": "code",
      "source": [
        "import json\n",
        "import networkx as nx\n",
        "from itertools import product\n",
        "#from transformers import RobertaTokenizerFast, RobertaForTokenClassification\n",
        "#from transformers import AutoTokenizer, AutoModelForTokenClassification\n",
        "import os\n",
        "import torch\n",
        "from collections import defaultdict\n",
        "from typing import Dict\n"
      ],
      "metadata": {
        "id": "kslKzlqK-qlF"
      },
      "id": "kslKzlqK-qlF",
      "execution_count": 2,
      "outputs": []
    },
    {
      "cell_type": "code",
      "source": [
        "def normalize(name):\n",
        "    return name.lower()"
      ],
      "metadata": {
        "id": "sxp6rBu6_H2T"
      },
      "id": "sxp6rBu6_H2T",
      "execution_count": 3,
      "outputs": []
    },
    {
      "cell_type": "code",
      "source": [
        "def load_schema_config(schema_json_path):\n",
        "    with open(schema_json_path, 'r') as f:\n",
        "        schema = json.load(f)\n",
        "\n",
        "    graph = nx.Graph()\n",
        "    entity_to_tables = {}\n",
        "\n",
        "    # Add tables and columns as nodes and map entities\n",
        "    for table in schema['tables']:\n",
        "        table_name = normalize(table['table_name'])\n",
        "        graph.add_node(table_name)\n",
        "        for col in table.get('columns', []):\n",
        "            col_name = normalize(col['name'])\n",
        "            if 'business_entity' in col:\n",
        "                entity = normalize(col['business_entity'])\n",
        "                entity_to_tables.setdefault(entity, set()).add(table_name)\n",
        "\n",
        "    # Add relationships as edges with FK info as attributes\n",
        "    for rel in schema.get('relationships', []):\n",
        "        from_table = normalize(rel['from_table'])\n",
        "        to_table = normalize(rel['to_table'])\n",
        "        from_col = normalize(rel.get('from_column', ''))\n",
        "        to_col = normalize(rel.get('to_column', ''))\n",
        "        graph.add_edge(from_table, to_table, from_column=from_col, to_column=to_col)\n",
        "\n",
        "    return entity_to_tables, graph"
      ],
      "metadata": {
        "id": "LzTSdRCq_KB4"
      },
      "id": "LzTSdRCq_KB4",
      "execution_count": 4,
      "outputs": []
    },
    {
      "cell_type": "code",
      "source": [
        "class SmartTableResolver:\n",
        "    def __init__(self, schema):\n",
        "        self.schema = schema\n",
        "        self.graph = self._build_graph()\n",
        "        self.entity_to_columns = self._build_entity_to_columns()\n",
        "\n",
        "    def _build_graph(self):\n",
        "        graph = defaultdict(list)\n",
        "        for rel in self.schema['relationships']:\n",
        "            from_table = rel['from_table'].lower()\n",
        "            to_table = rel['to_table'].lower()\n",
        "            graph[from_table].append(to_table)\n",
        "            graph[to_table].append(from_table)  # For pathfinding only\n",
        "        return graph\n",
        "\n",
        "    def _build_entity_to_columns(self):\n",
        "        entity_map = defaultdict(list)\n",
        "        for table in self.schema['tables']:\n",
        "            for col in table['columns']:\n",
        "                if 'business_entity' in col and col['business_entity']:\n",
        "                    entity_map[col['business_entity'].lower()].append((\n",
        "                        table['table_name'].lower(), col['name'].lower()\n",
        "                    ))\n",
        "        return entity_map\n",
        "\n",
        "    def resolve(self, entities):\n",
        "        entity_candidates = {\n",
        "            ent: self.entity_to_columns.get(ent.lower(), [])\n",
        "            for ent in entities\n",
        "        }\n",
        "\n",
        "        # All candidate tables\n",
        "        table_sets = [set(t for t, _ in candidates) for candidates in entity_candidates.values() if candidates]\n",
        "        if not table_sets:\n",
        "            return {'tables': [], 'relationships': []}\n",
        "\n",
        "        # Flatten all unique tables\n",
        "        from itertools import product\n",
        "        all_candidates = list(product(*table_sets))\n",
        "\n",
        "        best_path = None\n",
        "        min_nodes = float('inf')\n",
        "\n",
        "        for combo in all_candidates:\n",
        "            all_paths = set()\n",
        "            for i in range(len(combo)):\n",
        "                for j in range(i + 1, len(combo)):\n",
        "                    src = combo[i]\n",
        "                    tgt = combo[j]\n",
        "                    path = self._shortest_path(src, tgt)\n",
        "                    if path:\n",
        "                        all_paths.update(path)\n",
        "\n",
        "            if all_paths and len(all_paths) < min_nodes:\n",
        "                best_path = all_paths\n",
        "                min_nodes = len(all_paths)\n",
        "\n",
        "        if not best_path:\n",
        "            return {'tables': list(set().union(*table_sets)), 'relationships': []}\n",
        "\n",
        "        involved_tables = set(best_path)\n",
        "\n",
        "        # Extract only real (directed) relationships from schema\n",
        "        valid_relationships = set(\n",
        "            (rel['from_table'].lower(), rel['from_column'].lower(), rel['to_table'].lower(), rel['to_column'].lower())\n",
        "            for rel in self.schema['relationships']\n",
        "        )\n",
        "\n",
        "        relationships = []\n",
        "        for rel in self.schema['relationships']:\n",
        "            ft = rel['from_table'].lower()\n",
        "            tt = rel['to_table'].lower()\n",
        "            if ft in involved_tables and tt in involved_tables:\n",
        "                relationships.append(rel)\n",
        "\n",
        "        return {'tables': sorted(involved_tables), 'relationships': relationships}\n",
        "\n",
        "    def _shortest_path(self, start, end):\n",
        "        queue = deque([(start, [start])])\n",
        "        visited = set()\n",
        "        while queue:\n",
        "            current, path = queue.popleft()\n",
        "            if current == end:\n",
        "                return path\n",
        "            visited.add(current)\n",
        "            for neighbor in self.graph[current]:\n",
        "                if neighbor not in visited:\n",
        "                    queue.append((neighbor, path + [neighbor]))\n",
        "        return None\n"
      ],
      "metadata": {
        "id": "ksPM0oDsEzs6"
      },
      "id": "ksPM0oDsEzs6",
      "execution_count": 5,
      "outputs": []
    },
    {
      "cell_type": "code",
      "source": [
        "class SmartTableResolver_old:\n",
        "    def __init__(self, entity_to_tables, graph, entity_preference=None):\n",
        "        self.entity_to_tables = entity_to_tables\n",
        "        self.graph = graph\n",
        "        self.entity_preference = entity_preference or {}\n",
        "\n",
        "    def combo_score(self, combo, ner_labels):\n",
        "        score = 0\n",
        "        for ent, tbl in zip(ner_labels, combo):\n",
        "            prefs = self.entity_preference.get(ent, [])\n",
        "            try:\n",
        "                score += prefs.index(tbl)\n",
        "            except ValueError:\n",
        "                score += 100\n",
        "        return score\n",
        "\n",
        "    def resolve(self, ner_labels):\n",
        "        ner_labels = [normalize(l) for l in ner_labels]\n",
        "        print(f\"NER labels normalized: {ner_labels}\")\n",
        "\n",
        "        candidates_per_entity = []\n",
        "        for ent in ner_labels:\n",
        "            if ent not in self.entity_to_tables:\n",
        "                print(f\"Unknown entity: {ent}\")\n",
        "                return []\n",
        "            print(f\"Entity '{ent}' candidates: {self.entity_to_tables[ent]}\")\n",
        "            candidates_per_entity.append(list(self.entity_to_tables[ent]))\n",
        "\n",
        "        best_solution = None\n",
        "        best_combo = None\n",
        "        best_score = None\n",
        "        best_relationships = None\n",
        "\n",
        "        for combo in product(*candidates_per_entity):\n",
        "            terminals = set(combo)\n",
        "            disconnected = False\n",
        "            nodes_in_paths = set()\n",
        "            rel_columns = set()\n",
        "\n",
        "            terminals_list = list(terminals)\n",
        "            for i in range(len(terminals_list)):\n",
        "                for j in range(i + 1, len(terminals_list)):\n",
        "                    src = terminals_list[i]\n",
        "                    tgt = terminals_list[j]\n",
        "                    try:\n",
        "                        path = nx.shortest_path(self.graph, src, tgt)\n",
        "                        for u, v in zip(path[:-1], path[1:]):\n",
        "                            edge_data = self.graph.get_edge_data(u, v, default={})\n",
        "                            from_col = edge_data.get('from_column', '')\n",
        "                            to_col = edge_data.get('to_column', '')\n",
        "                            rel_columns.add( (u, from_col, v, to_col) )\n",
        "                        nodes_in_paths.update(path)\n",
        "                    except nx.NetworkXNoPath:\n",
        "                        disconnected = True\n",
        "                        break\n",
        "                if disconnected:\n",
        "                    break\n",
        "\n",
        "            if disconnected:\n",
        "                continue\n",
        "\n",
        "            solution_nodes = nodes_in_paths.union(terminals)\n",
        "            score = self.combo_score(combo, ner_labels)\n",
        "            #print(f\"Testing combo: {combo}\")\n",
        "            #print(f\"Nodes in paths for combo: {solution_nodes}\")\n",
        "            #print(f\"Combo score: {score}\")\n",
        "\n",
        "            if best_solution is None or score < best_score:\n",
        "                best_solution = solution_nodes\n",
        "                best_combo = combo\n",
        "                best_score = score\n",
        "                best_relationships = rel_columns\n",
        "                #print(f\"New best solution: {best_solution} with score {best_score}\")\n",
        "\n",
        "        if best_solution is None:\n",
        "            print(\"No valid solution found\")\n",
        "            return []\n",
        "\n",
        "        relationships_list = [\n",
        "            {\n",
        "                \"from_table\": from_tbl,\n",
        "                \"from_column\": from_col,\n",
        "                \"to_table\": to_tbl,\n",
        "                \"to_column\": to_col\n",
        "            }\n",
        "            for (from_tbl, from_col, to_tbl, to_col) in best_relationships\n",
        "        ]\n",
        "\n",
        "        #print(f\"Best combo chosen: {best_combo}\")\n",
        "        return {\n",
        "            \"tables\": sorted(best_solution),\n",
        "            \"relationships\": relationships_list\n",
        "        }"
      ],
      "metadata": {
        "id": "5wRyEvqX_QW-"
      },
      "id": "5wRyEvqX_QW-",
      "execution_count": 6,
      "outputs": []
    },
    {
      "cell_type": "code",
      "source": [
        "def generate_sql_with_joins_using_where(resolved_result):\n",
        "    tables = resolved_result[\"tables\"]\n",
        "    relationships = resolved_result[\"relationships\"]\n",
        "\n",
        "    # Lowercase table names for SQL consistency\n",
        "    formatted_tables = [t.lower() for t in tables]\n",
        "    select_clause = \"SELECT *\"\n",
        "    from_clause = f\"FROM {', '.join(formatted_tables)}\"\n",
        "    where_clauses = []\n",
        "\n",
        "    for rel in relationships:\n",
        "        left = f\"{rel['from_table'].lower()}.{rel['from_column'].lower()}\"\n",
        "        right = f\"{rel['to_table'].lower()}.{rel['to_column'].lower()}\"\n",
        "        where_clauses.append(f\"{left} = {right}\")\n",
        "\n",
        "    where_clause = \"\"\n",
        "    if where_clauses:\n",
        "        where_clause = \"WHERE \" + \" AND \".join(where_clauses)\n",
        "\n",
        "    sql_query = f\"{select_clause}\\n{from_clause}\\n{where_clause}\"\n",
        "    return sql_query\n"
      ],
      "metadata": {
        "id": "Y_zh7VJO_S2j"
      },
      "id": "Y_zh7VJO_S2j",
      "execution_count": 7,
      "outputs": []
    },
    {
      "cell_type": "code",
      "source": [
        "if __name__ == \"__main__\":\n",
        "\n",
        "    # Write to file just for loading function (or modify loader to accept dict)\n",
        "    schema_file = \"NER-B-1_schema_info_trs.json\"\n",
        "\n",
        "    entity_to_tables, graph = load_schema_config(FULL_PATH + schema_file)\n",
        "\n",
        "    # Define preferences: lower index = higher preference for table per entity\n",
        "    entity_preference = {\n",
        "        \"dealer\": [\"TRS.DEAL_MASTER\"],\n",
        "        \"deal_date\": [\"TRS.DEAL_MASTER\"],\n",
        "        \"value_date\": [\"TRS.DEAL_MASTER\", \"TRS.DEAL_DETAIL\"],\n",
        "        \"customer_name\": [\"TRS.CUSTOMER\"]\n",
        "    }\n",
        "\n",
        "    resolver = SmartTableResolver_old(entity_to_tables, graph, entity_preference)\n",
        "\n"
      ],
      "metadata": {
        "id": "PX11BOt2_XOD"
      },
      "id": "PX11BOt2_XOD",
      "execution_count": 8,
      "outputs": []
    },
    {
      "cell_type": "code",
      "source": [
        "graph"
      ],
      "metadata": {
        "colab": {
          "base_uri": "https://localhost:8080/"
        },
        "id": "JQCe3C9LHQug",
        "outputId": "8e9c6981-29b8-4dd7-c541-ad1bc9c58fa5"
      },
      "id": "JQCe3C9LHQug",
      "execution_count": 9,
      "outputs": [
        {
          "output_type": "execute_result",
          "data": {
            "text/plain": [
              "<networkx.classes.graph.Graph at 0x787638798dd0>"
            ]
          },
          "metadata": {},
          "execution_count": 9
        }
      ]
    },
    {
      "cell_type": "code",
      "source": [
        "\n",
        "def generate_sql_with_entity_filters_and_values(result: Dict, schema: Dict, business_entity_values: Dict[str, str], put_extracted_values=True) -> str:\n",
        "    tables = result['tables']\n",
        "    relationships = result['relationships']\n",
        "\n",
        "    where_clauses = []\n",
        "\n",
        "    for rel in relationships:\n",
        "        left = f\"{rel['from_table'].lower()}.{rel['from_column'].lower()}\"\n",
        "        right = f\"{rel['to_table'].lower()}.{rel['to_column'].lower()}\"\n",
        "        where_clauses.append(f\"{left} = {right}\")\n",
        "\n",
        "    entity_keys_normalized = {k.strip().lower(): k for k in business_entity_values}\n",
        "\n",
        "    for table_info in schema['tables']:\n",
        "        table = table_info['table_name'].lower()\n",
        "        for col in table_info.get('columns', []):\n",
        "            entity = col.get('business_entity')\n",
        "            if not entity:\n",
        "                continue\n",
        "            norm_entity = entity.strip().lower()\n",
        "            if norm_entity in entity_keys_normalized:\n",
        "                original_key = entity_keys_normalized[norm_entity]\n",
        "                value = business_entity_values[original_key]\n",
        "                val_repr = f\"'{value}'\" if put_extracted_values else f\"@{entity}\"\n",
        "                where_clauses.append(f\"{table}.{col['name'].lower()} = {val_repr}\")\n",
        "\n",
        "    sql = f\"SELECT *\\nFROM {', '.join(tables)}\\nWHERE\\n    \" + \"\\n    AND \".join(where_clauses)\n",
        "    return sql"
      ],
      "metadata": {
        "id": "JO_evIuZ_49w"
      },
      "id": "JO_evIuZ_49w",
      "execution_count": 10,
      "outputs": []
    },
    {
      "cell_type": "code",
      "source": [
        "def filter_valid_relationships(resolved, schema):\n",
        "    # Build a map: table_name → set of column names\n",
        "    table_columns = {\n",
        "        table['table_name'].lower(): {col['name'].lower() for col in table['columns']}\n",
        "        for table in schema['tables']\n",
        "    }\n",
        "\n",
        "    valid_rels = []\n",
        "    for rel in resolved['relationships']:\n",
        "        ft = rel['from_table'].lower()\n",
        "        fc = rel['from_column'].lower()\n",
        "        tt = rel['to_table'].lower()\n",
        "        tc = rel['to_column'].lower()\n",
        "\n",
        "        # Only keep if both columns exist in their respective tables\n",
        "        if fc in table_columns.get(ft, set()) and tc in table_columns.get(tt, set()):\n",
        "            valid_rels.append(rel)\n",
        "\n",
        "    return {\n",
        "        'tables': resolved['tables'],\n",
        "        'relationships': valid_rels\n",
        "    }\n"
      ],
      "metadata": {
        "id": "_AUyxacLMzg9"
      },
      "id": "_AUyxacLMzg9",
      "execution_count": 11,
      "outputs": []
    },
    {
      "cell_type": "code",
      "source": [
        "captured_business_entity_values = {\n",
        "  \"DEAL_TYPE\": \"MM\",\n",
        "  \"CUSTOMER_NAME\": \"ABC BANK\",\n",
        "  \"STATUS\": \"approved\",\n",
        "  \"VALUE_DATE\": \"tomorrow\",\n",
        "  \"AMOUNT\": \"3000\",\n",
        "  \"CURRENCY\": \"EUR\"\n",
        "}\n",
        "\n",
        "ner_labels_from_captured_business_entity_values = [\"DEAL_TYPE\", \"CUSTOMER_NAME\", \"STATUS\", \"VALUE_DATE\", \"AMOUNT\", \"CURRENCY\"]"
      ],
      "metadata": {
        "id": "vbQ28e6KMU5K"
      },
      "id": "vbQ28e6KMU5K",
      "execution_count": 12,
      "outputs": []
    },
    {
      "cell_type": "code",
      "source": [
        "\n",
        "tables = resolver.resolve(ner_labels_from_captured_business_entity_values)"
      ],
      "metadata": {
        "colab": {
          "base_uri": "https://localhost:8080/"
        },
        "id": "VV9hW9dE_8wL",
        "outputId": "94054b20-9eff-47fe-abc0-97f801d8ea85"
      },
      "id": "VV9hW9dE_8wL",
      "execution_count": 13,
      "outputs": [
        {
          "output_type": "stream",
          "name": "stdout",
          "text": [
            "NER labels normalized: ['deal_type', 'customer_name', 'status', 'value_date', 'amount', 'currency']\n",
            "Entity 'deal_type' candidates: {'trs.deal_master'}\n",
            "Entity 'customer_name' candidates: {'cus.customer'}\n",
            "Entity 'status' candidates: {'trs.deal_master'}\n",
            "Entity 'value_date' candidates: {'trs.deal_master', 'trs.deal_detail'}\n",
            "Entity 'amount' candidates: {'trs.deal_detail'}\n",
            "Entity 'currency' candidates: {'trs.deal_detail'}\n"
          ]
        }
      ]
    },
    {
      "cell_type": "code",
      "source": [
        "print(tables)"
      ],
      "metadata": {
        "colab": {
          "base_uri": "https://localhost:8080/"
        },
        "id": "SGWvkTehHBbN",
        "outputId": "4fc46866-2a4d-49d1-f7be-9a9995d279d0"
      },
      "id": "SGWvkTehHBbN",
      "execution_count": 14,
      "outputs": [
        {
          "output_type": "stream",
          "name": "stdout",
          "text": [
            "{'tables': ['cus.customer', 'trs.deal_detail', 'trs.deal_master'], 'relationships': [{'from_table': 'trs.deal_master', 'from_column': 'customeroid', 'to_table': 'cus.customer', 'to_column': 'oid'}, {'from_table': 'cus.customer', 'from_column': 'customeroid', 'to_table': 'trs.deal_master', 'to_column': 'oid'}, {'from_table': 'trs.deal_master', 'from_column': 'dealmasteroid', 'to_table': 'trs.deal_detail', 'to_column': 'oid'}]}\n"
          ]
        }
      ]
    },
    {
      "cell_type": "code",
      "source": [],
      "metadata": {
        "id": "jRep63q9HDpY"
      },
      "id": "jRep63q9HDpY",
      "execution_count": 14,
      "outputs": []
    },
    {
      "cell_type": "code",
      "source": [
        "with open(FULL_PATH + schema_file, 'r') as f:\n",
        "        trs_schema = json.load(f)"
      ],
      "metadata": {
        "id": "Jh-e1h8QHJzr"
      },
      "id": "Jh-e1h8QHJzr",
      "execution_count": 15,
      "outputs": []
    },
    {
      "cell_type": "code",
      "source": [
        "cleaned = filter_valid_relationships(tables, trs_schema)\n",
        "print(cleaned)"
      ],
      "metadata": {
        "colab": {
          "base_uri": "https://localhost:8080/"
        },
        "id": "HigQI14VHzX5",
        "outputId": "f64c66ea-e5cf-43ad-f692-f68d9123c3be"
      },
      "id": "HigQI14VHzX5",
      "execution_count": 16,
      "outputs": [
        {
          "output_type": "stream",
          "name": "stdout",
          "text": [
            "{'tables': ['cus.customer', 'trs.deal_detail', 'trs.deal_master'], 'relationships': [{'from_table': 'trs.deal_master', 'from_column': 'customeroid', 'to_table': 'cus.customer', 'to_column': 'oid'}]}\n"
          ]
        }
      ]
    },
    {
      "cell_type": "code",
      "source": [
        "print(generate_sql_with_joins_using_where(cleaned))"
      ],
      "metadata": {
        "colab": {
          "base_uri": "https://localhost:8080/"
        },
        "id": "L5qrRpQM__2J",
        "outputId": "7be75331-72b5-4d75-9a28-90779c728df4"
      },
      "id": "L5qrRpQM__2J",
      "execution_count": 17,
      "outputs": [
        {
          "output_type": "stream",
          "name": "stdout",
          "text": [
            "SELECT *\n",
            "FROM cus.customer, trs.deal_detail, trs.deal_master\n",
            "WHERE trs.deal_master.customeroid = cus.customer.oid\n"
          ]
        }
      ]
    },
    {
      "cell_type": "code",
      "source": [
        "sql = generate_sql_with_entity_filters_and_values(cleaned, trs_schema, captured_business_entity_values, put_extracted_values=True)\n",
        "print(sql)\n"
      ],
      "metadata": {
        "colab": {
          "base_uri": "https://localhost:8080/"
        },
        "id": "WA5fYLisLPtJ",
        "outputId": "5eb43de6-58b6-43fd-b0b1-7180850b3e10"
      },
      "id": "WA5fYLisLPtJ",
      "execution_count": 18,
      "outputs": [
        {
          "output_type": "stream",
          "name": "stdout",
          "text": [
            "SELECT *\n",
            "FROM cus.customer, trs.deal_detail, trs.deal_master\n",
            "WHERE\n",
            "    trs.deal_master.customeroid = cus.customer.oid\n",
            "    AND trs.deal_master.valdate = 'tomorrow'\n",
            "    AND trs.deal_master.dealtp = 'MM'\n",
            "    AND trs.deal_master.appstatus = 'approved'\n",
            "    AND trs.deal_detail.curr = 'EUR'\n",
            "    AND trs.deal_detail.valdate = 'tomorrow'\n",
            "    AND trs.deal_detail.amt = '3000'\n",
            "    AND cus.customer.name = 'ABC BANK'\n"
          ]
        }
      ]
    }
  ],
  "metadata": {
    "kernelspec": {
      "display_name": "hf_env",
      "language": "python",
      "name": "python3"
    },
    "language_info": {
      "codemirror_mode": {
        "name": "ipython",
        "version": 3
      },
      "file_extension": ".py",
      "mimetype": "text/x-python",
      "name": "python",
      "nbconvert_exporter": "python",
      "pygments_lexer": "ipython3",
      "version": "3.12.2"
    },
    "colab": {
      "provenance": [],
      "include_colab_link": true
    }
  },
  "nbformat": 4,
  "nbformat_minor": 5
}