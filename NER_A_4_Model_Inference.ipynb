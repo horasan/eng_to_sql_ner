{
  "cells": [
    {
      "cell_type": "markdown",
      "metadata": {
        "id": "view-in-github",
        "colab_type": "text"
      },
      "source": [
        "<a href=\"https://colab.research.google.com/github/horasan/eng_to_sql_ner/blob/main/NER_A_4_Model_Inference.ipynb\" target=\"_parent\"><img src=\"https://colab.research.google.com/assets/colab-badge.svg\" alt=\"Open In Colab\"/></a>"
      ]
    },
    {
      "cell_type": "code",
      "execution_count": null,
      "id": "7a276939",
      "metadata": {
        "id": "7a276939"
      },
      "outputs": [],
      "source": [
        "import torch"
      ]
    },
    {
      "cell_type": "code",
      "source": [
        "from google.colab import drive\n",
        "# read data from google drive\n",
        "drive.mount('/content/drive')\n",
        "FOLDER_PATH = \"NER_for_SQL\"\n",
        "FULL_PATH = \"/content/drive/My Drive/Colab Notebooks/\" + FOLDER_PATH + \"/\""
      ],
      "metadata": {
        "colab": {
          "base_uri": "https://localhost:8080/"
        },
        "id": "OXL0TNdYpCAc",
        "outputId": "d223df1c-36c7-438b-cbce-bea5f7c3470c"
      },
      "id": "OXL0TNdYpCAc",
      "execution_count": null,
      "outputs": [
        {
          "output_type": "stream",
          "name": "stdout",
          "text": [
            "Mounted at /content/drive\n"
          ]
        }
      ]
    },
    {
      "cell_type": "code",
      "source": [
        "\n",
        "bio_tagged_dataset_file_name   = \"synthetic_queries_300_bio_tagged.txt\"\n",
        "\n",
        "tag2id_with_cust_file_name = \"tag2id_with_cust.json\"\n",
        "id2tag_with_cust_file_name = \"id2tag_with_cust.json\"\n",
        "\n",
        "trained_model_path = FULL_PATH + \"ner-roberta-with-cust\"\n",
        "trained_tokenizer_path = FULL_PATH + \"ner-roberta-with-cust\""
      ],
      "metadata": {
        "id": "GS2ye6iro_N5"
      },
      "id": "GS2ye6iro_N5",
      "execution_count": null,
      "outputs": []
    },
    {
      "cell_type": "markdown",
      "id": "554f206b",
      "metadata": {
        "id": "554f206b"
      },
      "source": [
        "# utils"
      ]
    },
    {
      "cell_type": "code",
      "execution_count": null,
      "id": "b99f320e",
      "metadata": {
        "id": "b99f320e"
      },
      "outputs": [],
      "source": [
        "def predict(text, tokenizer, model, id2tag):\n",
        "    # Tokenize input\n",
        "    tokens = text.split()\n",
        "    encoding = tokenizer(\n",
        "        tokens,\n",
        "        is_split_into_words=True,\n",
        "        return_tensors=\"pt\",\n",
        "        truncation=True,\n",
        "        return_offsets_mapping=True\n",
        "    )\n",
        "\n",
        "    # Remove offset_mapping before feeding to model\n",
        "    encoding.pop(\"offset_mapping\")\n",
        "\n",
        "    # Run inference\n",
        "    model.eval()\n",
        "    with torch.no_grad():\n",
        "        output = model(**encoding)\n",
        "        predictions = torch.argmax(output.logits, dim=-1)\n",
        "\n",
        "    # Get word-level predictions\n",
        "    word_ids = encoding.word_ids()\n",
        "    results = []\n",
        "    for idx, word_idx in enumerate(word_ids):\n",
        "        if word_idx is not None and (idx == 0 or word_idx != word_ids[idx - 1]):\n",
        "            label_id = predictions[0][idx].item()\n",
        "            #tag = id2tag.get(label_id, \"O\")  # default to \"O\" if not found\n",
        "            results.append((tokens[word_idx], id2tag[label_id]))\n",
        "            #results.append((tokens[word_idx], tag))\n",
        "    return results\n"
      ]
    },
    {
      "cell_type": "code",
      "source": [
        "from collections import defaultdict\n",
        "\n",
        "def ner_tuples_to_json(tagged_tokens):\n",
        "    entities = defaultdict(str)\n",
        "    current_entity = None\n",
        "\n",
        "    for token, tag in tagged_tokens:\n",
        "        if tag.startswith(\"B-\"):\n",
        "            current_entity = tag[2:]\n",
        "            entities[current_entity] += token.lstrip(\"▁\").strip() + \" \"\n",
        "        elif tag.startswith(\"I-\") and current_entity:\n",
        "            entities[current_entity] += token.lstrip(\"▁\").strip() + \" \"\n",
        "        else:\n",
        "            current_entity = None  # Reset if it's \"O\" or invalid\n",
        "\n",
        "    # Strip trailing spaces\n",
        "    return {k: v.strip() for k, v in entities.items()}"
      ],
      "metadata": {
        "id": "E19FM30gSaHn"
      },
      "id": "E19FM30gSaHn",
      "execution_count": 9,
      "outputs": []
    },
    {
      "cell_type": "markdown",
      "id": "162b37fe",
      "metadata": {
        "id": "162b37fe"
      },
      "source": [
        "# Load saved model"
      ]
    },
    {
      "cell_type": "code",
      "execution_count": null,
      "id": "7c9c2bed",
      "metadata": {
        "id": "7c9c2bed"
      },
      "outputs": [],
      "source": [
        "from transformers import RobertaTokenizerFast, RobertaForTokenClassification\n",
        "from transformers import AutoTokenizer, AutoModelForTokenClassification\n",
        "\n",
        "tokenizer = RobertaTokenizerFast.from_pretrained(\"roberta-base\", add_prefix_space=True)\n",
        "model = AutoModelForTokenClassification.from_pretrained(trained_model_path)"
      ]
    },
    {
      "cell_type": "markdown",
      "id": "9cd5f393",
      "metadata": {
        "id": "9cd5f393"
      },
      "source": [
        "# Log saved id-tag files"
      ]
    },
    {
      "cell_type": "code",
      "execution_count": null,
      "id": "b6220ee2",
      "metadata": {
        "id": "b6220ee2"
      },
      "outputs": [],
      "source": [
        "import json\n",
        "\n",
        "#tag2id_with_cust_file_name = \"tag2id_with_cust.json\"\n",
        "#id2tag_with_cust_file_name = \"id2tag_with_cust.json\"\n",
        "\n",
        "# just to be sure type is integer\n",
        "with open(FULL_PATH + id2tag_with_cust_file_name, \"r\") as f:\n",
        "    id2tag = {int(k): v for k, v in json.load(f).items()}\n"
      ]
    },
    {
      "cell_type": "markdown",
      "id": "32a0e9d3",
      "metadata": {
        "id": "32a0e9d3"
      },
      "source": [
        "# Capture the business entities"
      ]
    },
    {
      "cell_type": "code",
      "execution_count": null,
      "id": "e824caf1",
      "metadata": {
        "colab": {
          "base_uri": "https://localhost:8080/"
        },
        "id": "e824caf1",
        "outputId": "201112ff-d479-4480-d860-df69e46be026"
      },
      "outputs": [
        {
          "output_type": "stream",
          "name": "stdout",
          "text": [
            "Get\tO\n",
            "MM\tB-DEAL_TYPE\n",
            "trades\tO\n",
            "for\tO\n",
            "ABC\tB-CUSTOMER_NAME\n",
            "BANK\tI-CUSTOMER_NAME\n",
            "with\tO\n",
            "status\tO\n",
            "approved\tB-STATUS\n",
            "and\tO\n",
            "value\tO\n",
            "date\tO\n",
            "is\tO\n",
            "tomorrow\tB-VALUE_DATE\n",
            "and\tO\n",
            "amount\tO\n",
            "is\tO\n",
            "3000\tB-AMOUNT\n",
            "and\tO\n",
            "cur\tO\n",
            "is\tO\n",
            "EUR\tB-CURRENCY\n"
          ]
        }
      ],
      "source": [
        "#text = \"Get trades for Deutsche Bank with status cancelled\"\n",
        "#text = \"Get trades for Deutsche Bank with status cancelled and value date is tomorrow\"\n",
        "#text = \"Get trades for Deutsche Bank with status cancelled and value date is tomorrow and amount is 1000 EUR\"\n",
        "#text = \"Get all the 3rd party and their phone number where settlement date is today\"\n",
        "text = \"Get MM trades for ABC BANK with status approved and value date is tomorrow and amount is 3000 and cur is EUR\"\n",
        "result = predict(text, tokenizer, model, id2tag)\n",
        "\n",
        "for word, tag in result:\n",
        "    print(f\"{word}\\t{tag}\")\n"
      ]
    },
    {
      "cell_type": "code",
      "source": [
        "result_json = ner_tuples_to_json(result)\n",
        "print(result_json)"
      ],
      "metadata": {
        "colab": {
          "base_uri": "https://localhost:8080/"
        },
        "id": "ODc2sMD4SDnb",
        "outputId": "d29c4661-38e2-4fe1-a2ee-7f791a2fb904"
      },
      "id": "ODc2sMD4SDnb",
      "execution_count": 11,
      "outputs": [
        {
          "output_type": "stream",
          "name": "stdout",
          "text": [
            "{'DEAL_TYPE': 'MM', 'CUSTOMER_NAME': 'ABC BANK', 'STATUS': 'approved', 'VALUE_DATE': 'tomorrow', 'AMOUNT': '3000', 'CURRENCY': 'EUR'}\n"
          ]
        }
      ]
    },
    {
      "cell_type": "code",
      "source": [],
      "metadata": {
        "colab": {
          "base_uri": "https://localhost:8080/"
        },
        "id": "aFK-PclcSYYH",
        "outputId": "751565b8-0163-4084-e531-d4eade00aa76"
      },
      "id": "aFK-PclcSYYH",
      "execution_count": 10,
      "outputs": [
        {
          "output_type": "stream",
          "name": "stdout",
          "text": [
            "{'DEAL_TYPE': 'MM', 'CUSTOMER_NAME': 'ABC BANK', 'STATUS': 'approved', 'VALUE_DATE': 'tomorrow', 'AMOUNT': '3000', 'CURRENCY': 'EUR'}\n"
          ]
        }
      ]
    }
  ],
  "metadata": {
    "kernelspec": {
      "display_name": "hf_env",
      "language": "python",
      "name": "python3"
    },
    "language_info": {
      "codemirror_mode": {
        "name": "ipython",
        "version": 3
      },
      "file_extension": ".py",
      "mimetype": "text/x-python",
      "name": "python",
      "nbconvert_exporter": "python",
      "pygments_lexer": "ipython3",
      "version": "3.12.2"
    },
    "colab": {
      "provenance": [],
      "toc_visible": true,
      "include_colab_link": true
    }
  },
  "nbformat": 4,
  "nbformat_minor": 5
}